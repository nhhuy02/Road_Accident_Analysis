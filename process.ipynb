{
 "cells": [
  {
   "cell_type": "markdown",
   "metadata": {},
   "source": [
    "### Task1: Clean and process data"
   ]
  },
  {
   "cell_type": "code",
   "execution_count": 1,
   "metadata": {},
   "outputs": [],
   "source": [
    "import numpy as np\n",
    "import pandas as pd\n",
    "import seaborn as sns\n",
    "import datetime as dt\n",
    "import matplotlib.pyplot as plt\n",
    "import plotly.express as px"
   ]
  },
  {
   "cell_type": "code",
   "execution_count": 2,
   "metadata": {},
   "outputs": [
    {
     "data": {
      "text/html": [
       "<div>\n",
       "<style scoped>\n",
       "    .dataframe tbody tr th:only-of-type {\n",
       "        vertical-align: middle;\n",
       "    }\n",
       "\n",
       "    .dataframe tbody tr th {\n",
       "        vertical-align: top;\n",
       "    }\n",
       "\n",
       "    .dataframe thead th {\n",
       "        text-align: right;\n",
       "    }\n",
       "</style>\n",
       "<table border=\"1\" class=\"dataframe\">\n",
       "  <thead>\n",
       "    <tr style=\"text-align: right;\">\n",
       "      <th></th>\n",
       "      <th>Accident_Index</th>\n",
       "      <th>Accident Date</th>\n",
       "      <th>Junction_Control</th>\n",
       "      <th>Junction_Detail</th>\n",
       "      <th>Accident_Severity</th>\n",
       "      <th>Latitude</th>\n",
       "      <th>Light_Conditions</th>\n",
       "      <th>Local_Authority_(District)</th>\n",
       "      <th>Carriageway_Hazards</th>\n",
       "      <th>Longitude</th>\n",
       "      <th>Number_of_Casualties</th>\n",
       "      <th>Number_of_Vehicles</th>\n",
       "      <th>Police_Force</th>\n",
       "      <th>Road_Surface_Conditions</th>\n",
       "      <th>Road_Type</th>\n",
       "      <th>Speed_limit</th>\n",
       "      <th>Time</th>\n",
       "      <th>Urban_or_Rural_Area</th>\n",
       "      <th>Weather_Conditions</th>\n",
       "      <th>Vehicle_Type</th>\n",
       "    </tr>\n",
       "  </thead>\n",
       "  <tbody>\n",
       "    <tr>\n",
       "      <th>0</th>\n",
       "      <td>200901BS70001</td>\n",
       "      <td>2021-01-01</td>\n",
       "      <td>Give way or uncontrolled</td>\n",
       "      <td>T or staggered junction</td>\n",
       "      <td>Serious</td>\n",
       "      <td>51.512273</td>\n",
       "      <td>Daylight</td>\n",
       "      <td>Kensington and Chelsea</td>\n",
       "      <td>none</td>\n",
       "      <td>-0.201349</td>\n",
       "      <td>1</td>\n",
       "      <td>2</td>\n",
       "      <td>Metropolitan Police</td>\n",
       "      <td>Dry</td>\n",
       "      <td>One way street</td>\n",
       "      <td>30</td>\n",
       "      <td>15:11:00</td>\n",
       "      <td>Urban</td>\n",
       "      <td>Fine no high winds</td>\n",
       "      <td>Car</td>\n",
       "    </tr>\n",
       "    <tr>\n",
       "      <th>1</th>\n",
       "      <td>200901BS70002</td>\n",
       "      <td>2021-01-05</td>\n",
       "      <td>Give way or uncontrolled</td>\n",
       "      <td>Crossroads</td>\n",
       "      <td>Serious</td>\n",
       "      <td>51.514399</td>\n",
       "      <td>Daylight</td>\n",
       "      <td>Kensington and Chelsea</td>\n",
       "      <td>none</td>\n",
       "      <td>-0.199248</td>\n",
       "      <td>11</td>\n",
       "      <td>2</td>\n",
       "      <td>Metropolitan Police</td>\n",
       "      <td>Wet or damp</td>\n",
       "      <td>Single carriageway</td>\n",
       "      <td>30</td>\n",
       "      <td>10:59:00</td>\n",
       "      <td>Urban</td>\n",
       "      <td>Fine no high winds</td>\n",
       "      <td>Taxi/Private hire car</td>\n",
       "    </tr>\n",
       "    <tr>\n",
       "      <th>2</th>\n",
       "      <td>200901BS70003</td>\n",
       "      <td>2021-01-04</td>\n",
       "      <td>Give way or uncontrolled</td>\n",
       "      <td>T or staggered junction</td>\n",
       "      <td>Slight</td>\n",
       "      <td>51.486668</td>\n",
       "      <td>Daylight</td>\n",
       "      <td>Kensington and Chelsea</td>\n",
       "      <td>none</td>\n",
       "      <td>-0.179599</td>\n",
       "      <td>1</td>\n",
       "      <td>2</td>\n",
       "      <td>Metropolitan Police</td>\n",
       "      <td>Dry</td>\n",
       "      <td>Single carriageway</td>\n",
       "      <td>30</td>\n",
       "      <td>14:19:00</td>\n",
       "      <td>Urban</td>\n",
       "      <td>Fine no high winds</td>\n",
       "      <td>Taxi/Private hire car</td>\n",
       "    </tr>\n",
       "    <tr>\n",
       "      <th>3</th>\n",
       "      <td>200901BS70004</td>\n",
       "      <td>2021-01-05</td>\n",
       "      <td>Auto traffic signal</td>\n",
       "      <td>T or staggered junction</td>\n",
       "      <td>Serious</td>\n",
       "      <td>51.507804</td>\n",
       "      <td>Daylight</td>\n",
       "      <td>Kensington and Chelsea</td>\n",
       "      <td>none</td>\n",
       "      <td>-0.203110</td>\n",
       "      <td>1</td>\n",
       "      <td>2</td>\n",
       "      <td>Metropolitan Police</td>\n",
       "      <td>Frost or ice</td>\n",
       "      <td>Single carriageway</td>\n",
       "      <td>30</td>\n",
       "      <td>08:10:00</td>\n",
       "      <td>Urban</td>\n",
       "      <td>Other</td>\n",
       "      <td>Motorcycle over 500cc</td>\n",
       "    </tr>\n",
       "    <tr>\n",
       "      <th>4</th>\n",
       "      <td>200901BS70005</td>\n",
       "      <td>2021-01-06</td>\n",
       "      <td>Auto traffic signal</td>\n",
       "      <td>Crossroads</td>\n",
       "      <td>Serious</td>\n",
       "      <td>51.482076</td>\n",
       "      <td>Darkness - lights lit</td>\n",
       "      <td>Kensington and Chelsea</td>\n",
       "      <td>none</td>\n",
       "      <td>-0.173445</td>\n",
       "      <td>1</td>\n",
       "      <td>2</td>\n",
       "      <td>Metropolitan Police</td>\n",
       "      <td>Dry</td>\n",
       "      <td>Single carriageway</td>\n",
       "      <td>30</td>\n",
       "      <td>17:25:00</td>\n",
       "      <td>Urban</td>\n",
       "      <td>Fine no high winds</td>\n",
       "      <td>Car</td>\n",
       "    </tr>\n",
       "  </tbody>\n",
       "</table>\n",
       "</div>"
      ],
      "text/plain": [
       "  Accident_Index Accident Date          Junction_Control  \\\n",
       "0  200901BS70001    2021-01-01  Give way or uncontrolled   \n",
       "1  200901BS70002    2021-01-05  Give way or uncontrolled   \n",
       "2  200901BS70003    2021-01-04  Give way or uncontrolled   \n",
       "3  200901BS70004    2021-01-05       Auto traffic signal   \n",
       "4  200901BS70005    2021-01-06       Auto traffic signal   \n",
       "\n",
       "           Junction_Detail Accident_Severity   Latitude  \\\n",
       "0  T or staggered junction           Serious  51.512273   \n",
       "1               Crossroads           Serious  51.514399   \n",
       "2  T or staggered junction            Slight  51.486668   \n",
       "3  T or staggered junction           Serious  51.507804   \n",
       "4               Crossroads           Serious  51.482076   \n",
       "\n",
       "        Light_Conditions Local_Authority_(District) Carriageway_Hazards  \\\n",
       "0               Daylight     Kensington and Chelsea                none   \n",
       "1               Daylight     Kensington and Chelsea                none   \n",
       "2               Daylight     Kensington and Chelsea                none   \n",
       "3               Daylight     Kensington and Chelsea                none   \n",
       "4  Darkness - lights lit     Kensington and Chelsea                none   \n",
       "\n",
       "   Longitude  Number_of_Casualties  Number_of_Vehicles         Police_Force  \\\n",
       "0  -0.201349                     1                   2  Metropolitan Police   \n",
       "1  -0.199248                    11                   2  Metropolitan Police   \n",
       "2  -0.179599                     1                   2  Metropolitan Police   \n",
       "3  -0.203110                     1                   2  Metropolitan Police   \n",
       "4  -0.173445                     1                   2  Metropolitan Police   \n",
       "\n",
       "  Road_Surface_Conditions           Road_Type  Speed_limit      Time  \\\n",
       "0                     Dry      One way street           30  15:11:00   \n",
       "1             Wet or damp  Single carriageway           30  10:59:00   \n",
       "2                     Dry  Single carriageway           30  14:19:00   \n",
       "3            Frost or ice  Single carriageway           30  08:10:00   \n",
       "4                     Dry  Single carriageway           30  17:25:00   \n",
       "\n",
       "  Urban_or_Rural_Area  Weather_Conditions           Vehicle_Type  \n",
       "0               Urban  Fine no high winds                    Car  \n",
       "1               Urban  Fine no high winds  Taxi/Private hire car  \n",
       "2               Urban  Fine no high winds  Taxi/Private hire car  \n",
       "3               Urban               Other  Motorcycle over 500cc  \n",
       "4               Urban  Fine no high winds                    Car  "
      ]
     },
     "execution_count": 2,
     "metadata": {},
     "output_type": "execute_result"
    }
   ],
   "source": [
    "data = pd.read_excel(\"Road Accident Data.xlsx\")\n",
    "data.head()"
   ]
  },
  {
   "cell_type": "code",
   "execution_count": 3,
   "metadata": {},
   "outputs": [
    {
     "data": {
      "text/plain": [
       "(307973, 20)"
      ]
     },
     "execution_count": 3,
     "metadata": {},
     "output_type": "execute_result"
    }
   ],
   "source": [
    "data.shape"
   ]
  },
  {
   "cell_type": "code",
   "execution_count": 4,
   "metadata": {},
   "outputs": [
    {
     "data": {
      "text/plain": [
       "6159460"
      ]
     },
     "execution_count": 4,
     "metadata": {},
     "output_type": "execute_result"
    }
   ],
   "source": [
    "data.size"
   ]
  },
  {
   "cell_type": "code",
   "execution_count": 5,
   "metadata": {},
   "outputs": [
    {
     "data": {
      "text/plain": [
       "Index(['Accident_Index', 'Accident Date', 'Junction_Control',\n",
       "       'Junction_Detail', 'Accident_Severity', 'Latitude', 'Light_Conditions',\n",
       "       'Local_Authority_(District)', 'Carriageway_Hazards', 'Longitude',\n",
       "       'Number_of_Casualties', 'Number_of_Vehicles', 'Police_Force',\n",
       "       'Road_Surface_Conditions', 'Road_Type', 'Speed_limit', 'Time',\n",
       "       'Urban_or_Rural_Area', 'Weather_Conditions', 'Vehicle_Type'],\n",
       "      dtype='object')"
      ]
     },
     "execution_count": 5,
     "metadata": {},
     "output_type": "execute_result"
    }
   ],
   "source": [
    "data.columns"
   ]
  },
  {
   "cell_type": "code",
   "execution_count": 6,
   "metadata": {},
   "outputs": [
    {
     "data": {
      "text/plain": [
       "Accident_Index                        object\n",
       "Accident Date                 datetime64[ns]\n",
       "Junction_Control                      object\n",
       "Junction_Detail                       object\n",
       "Accident_Severity                     object\n",
       "Latitude                             float64\n",
       "Light_Conditions                      object\n",
       "Local_Authority_(District)            object\n",
       "Carriageway_Hazards                   object\n",
       "Longitude                            float64\n",
       "Number_of_Casualties                   int64\n",
       "Number_of_Vehicles                     int64\n",
       "Police_Force                          object\n",
       "Road_Surface_Conditions               object\n",
       "Road_Type                             object\n",
       "Speed_limit                            int64\n",
       "Time                                  object\n",
       "Urban_or_Rural_Area                   object\n",
       "Weather_Conditions                    object\n",
       "Vehicle_Type                          object\n",
       "dtype: object"
      ]
     },
     "execution_count": 6,
     "metadata": {},
     "output_type": "execute_result"
    }
   ],
   "source": [
    "data.dtypes"
   ]
  },
  {
   "cell_type": "code",
   "execution_count": 7,
   "metadata": {},
   "outputs": [
    {
     "name": "stdout",
     "output_type": "stream",
     "text": [
      "<class 'pandas.core.frame.DataFrame'>\n",
      "RangeIndex: 307973 entries, 0 to 307972\n",
      "Data columns (total 20 columns):\n",
      " #   Column                      Non-Null Count   Dtype         \n",
      "---  ------                      --------------   -----         \n",
      " 0   Accident_Index              307973 non-null  object        \n",
      " 1   Accident Date               307973 non-null  datetime64[ns]\n",
      " 2   Junction_Control            307973 non-null  object        \n",
      " 3   Junction_Detail             307973 non-null  object        \n",
      " 4   Accident_Severity           307973 non-null  object        \n",
      " 5   Latitude                    307973 non-null  float64       \n",
      " 6   Light_Conditions            307973 non-null  object        \n",
      " 7   Local_Authority_(District)  307973 non-null  object        \n",
      " 8   Carriageway_Hazards         307970 non-null  object        \n",
      " 9   Longitude                   307973 non-null  float64       \n",
      " 10  Number_of_Casualties        307973 non-null  int64         \n",
      " 11  Number_of_Vehicles          307973 non-null  int64         \n",
      " 12  Police_Force                307973 non-null  object        \n",
      " 13  Road_Surface_Conditions     307656 non-null  object        \n",
      " 14  Road_Type                   306439 non-null  object        \n",
      " 15  Speed_limit                 307973 non-null  int64         \n",
      " 16  Time                        307956 non-null  object        \n",
      " 17  Urban_or_Rural_Area         307973 non-null  object        \n",
      " 18  Weather_Conditions          301916 non-null  object        \n",
      " 19  Vehicle_Type                307973 non-null  object        \n",
      "dtypes: datetime64[ns](1), float64(2), int64(3), object(14)\n",
      "memory usage: 47.0+ MB\n"
     ]
    }
   ],
   "source": [
    "data.info()"
   ]
  },
  {
   "cell_type": "markdown",
   "metadata": {},
   "source": [
    "##### Task 1.1: Check null value and show with heat-map"
   ]
  },
  {
   "cell_type": "code",
   "execution_count": 8,
   "metadata": {},
   "outputs": [
    {
     "data": {
      "text/html": [
       "<div>\n",
       "<style scoped>\n",
       "    .dataframe tbody tr th:only-of-type {\n",
       "        vertical-align: middle;\n",
       "    }\n",
       "\n",
       "    .dataframe tbody tr th {\n",
       "        vertical-align: top;\n",
       "    }\n",
       "\n",
       "    .dataframe thead th {\n",
       "        text-align: right;\n",
       "    }\n",
       "</style>\n",
       "<table border=\"1\" class=\"dataframe\">\n",
       "  <thead>\n",
       "    <tr style=\"text-align: right;\">\n",
       "      <th></th>\n",
       "      <th>Accident_Index</th>\n",
       "      <th>Accident Date</th>\n",
       "      <th>Junction_Control</th>\n",
       "      <th>Junction_Detail</th>\n",
       "      <th>Accident_Severity</th>\n",
       "      <th>Latitude</th>\n",
       "      <th>Light_Conditions</th>\n",
       "      <th>Local_Authority_(District)</th>\n",
       "      <th>Carriageway_Hazards</th>\n",
       "      <th>Longitude</th>\n",
       "      <th>Number_of_Casualties</th>\n",
       "      <th>Number_of_Vehicles</th>\n",
       "      <th>Police_Force</th>\n",
       "      <th>Road_Surface_Conditions</th>\n",
       "      <th>Road_Type</th>\n",
       "      <th>Speed_limit</th>\n",
       "      <th>Time</th>\n",
       "      <th>Urban_or_Rural_Area</th>\n",
       "      <th>Weather_Conditions</th>\n",
       "      <th>Vehicle_Type</th>\n",
       "    </tr>\n",
       "  </thead>\n",
       "  <tbody>\n",
       "    <tr>\n",
       "      <th>0</th>\n",
       "      <td>False</td>\n",
       "      <td>False</td>\n",
       "      <td>False</td>\n",
       "      <td>False</td>\n",
       "      <td>False</td>\n",
       "      <td>False</td>\n",
       "      <td>False</td>\n",
       "      <td>False</td>\n",
       "      <td>False</td>\n",
       "      <td>False</td>\n",
       "      <td>False</td>\n",
       "      <td>False</td>\n",
       "      <td>False</td>\n",
       "      <td>False</td>\n",
       "      <td>False</td>\n",
       "      <td>False</td>\n",
       "      <td>False</td>\n",
       "      <td>False</td>\n",
       "      <td>False</td>\n",
       "      <td>False</td>\n",
       "    </tr>\n",
       "    <tr>\n",
       "      <th>1</th>\n",
       "      <td>False</td>\n",
       "      <td>False</td>\n",
       "      <td>False</td>\n",
       "      <td>False</td>\n",
       "      <td>False</td>\n",
       "      <td>False</td>\n",
       "      <td>False</td>\n",
       "      <td>False</td>\n",
       "      <td>False</td>\n",
       "      <td>False</td>\n",
       "      <td>False</td>\n",
       "      <td>False</td>\n",
       "      <td>False</td>\n",
       "      <td>False</td>\n",
       "      <td>False</td>\n",
       "      <td>False</td>\n",
       "      <td>False</td>\n",
       "      <td>False</td>\n",
       "      <td>False</td>\n",
       "      <td>False</td>\n",
       "    </tr>\n",
       "    <tr>\n",
       "      <th>2</th>\n",
       "      <td>False</td>\n",
       "      <td>False</td>\n",
       "      <td>False</td>\n",
       "      <td>False</td>\n",
       "      <td>False</td>\n",
       "      <td>False</td>\n",
       "      <td>False</td>\n",
       "      <td>False</td>\n",
       "      <td>False</td>\n",
       "      <td>False</td>\n",
       "      <td>False</td>\n",
       "      <td>False</td>\n",
       "      <td>False</td>\n",
       "      <td>False</td>\n",
       "      <td>False</td>\n",
       "      <td>False</td>\n",
       "      <td>False</td>\n",
       "      <td>False</td>\n",
       "      <td>False</td>\n",
       "      <td>False</td>\n",
       "    </tr>\n",
       "    <tr>\n",
       "      <th>3</th>\n",
       "      <td>False</td>\n",
       "      <td>False</td>\n",
       "      <td>False</td>\n",
       "      <td>False</td>\n",
       "      <td>False</td>\n",
       "      <td>False</td>\n",
       "      <td>False</td>\n",
       "      <td>False</td>\n",
       "      <td>False</td>\n",
       "      <td>False</td>\n",
       "      <td>False</td>\n",
       "      <td>False</td>\n",
       "      <td>False</td>\n",
       "      <td>False</td>\n",
       "      <td>False</td>\n",
       "      <td>False</td>\n",
       "      <td>False</td>\n",
       "      <td>False</td>\n",
       "      <td>False</td>\n",
       "      <td>False</td>\n",
       "    </tr>\n",
       "    <tr>\n",
       "      <th>4</th>\n",
       "      <td>False</td>\n",
       "      <td>False</td>\n",
       "      <td>False</td>\n",
       "      <td>False</td>\n",
       "      <td>False</td>\n",
       "      <td>False</td>\n",
       "      <td>False</td>\n",
       "      <td>False</td>\n",
       "      <td>False</td>\n",
       "      <td>False</td>\n",
       "      <td>False</td>\n",
       "      <td>False</td>\n",
       "      <td>False</td>\n",
       "      <td>False</td>\n",
       "      <td>False</td>\n",
       "      <td>False</td>\n",
       "      <td>False</td>\n",
       "      <td>False</td>\n",
       "      <td>False</td>\n",
       "      <td>False</td>\n",
       "    </tr>\n",
       "    <tr>\n",
       "      <th>...</th>\n",
       "      <td>...</td>\n",
       "      <td>...</td>\n",
       "      <td>...</td>\n",
       "      <td>...</td>\n",
       "      <td>...</td>\n",
       "      <td>...</td>\n",
       "      <td>...</td>\n",
       "      <td>...</td>\n",
       "      <td>...</td>\n",
       "      <td>...</td>\n",
       "      <td>...</td>\n",
       "      <td>...</td>\n",
       "      <td>...</td>\n",
       "      <td>...</td>\n",
       "      <td>...</td>\n",
       "      <td>...</td>\n",
       "      <td>...</td>\n",
       "      <td>...</td>\n",
       "      <td>...</td>\n",
       "      <td>...</td>\n",
       "    </tr>\n",
       "    <tr>\n",
       "      <th>307968</th>\n",
       "      <td>False</td>\n",
       "      <td>False</td>\n",
       "      <td>False</td>\n",
       "      <td>False</td>\n",
       "      <td>False</td>\n",
       "      <td>False</td>\n",
       "      <td>False</td>\n",
       "      <td>False</td>\n",
       "      <td>False</td>\n",
       "      <td>False</td>\n",
       "      <td>False</td>\n",
       "      <td>False</td>\n",
       "      <td>False</td>\n",
       "      <td>False</td>\n",
       "      <td>False</td>\n",
       "      <td>False</td>\n",
       "      <td>False</td>\n",
       "      <td>False</td>\n",
       "      <td>False</td>\n",
       "      <td>False</td>\n",
       "    </tr>\n",
       "    <tr>\n",
       "      <th>307969</th>\n",
       "      <td>False</td>\n",
       "      <td>False</td>\n",
       "      <td>False</td>\n",
       "      <td>False</td>\n",
       "      <td>False</td>\n",
       "      <td>False</td>\n",
       "      <td>False</td>\n",
       "      <td>False</td>\n",
       "      <td>False</td>\n",
       "      <td>False</td>\n",
       "      <td>False</td>\n",
       "      <td>False</td>\n",
       "      <td>False</td>\n",
       "      <td>False</td>\n",
       "      <td>False</td>\n",
       "      <td>False</td>\n",
       "      <td>False</td>\n",
       "      <td>False</td>\n",
       "      <td>False</td>\n",
       "      <td>False</td>\n",
       "    </tr>\n",
       "    <tr>\n",
       "      <th>307970</th>\n",
       "      <td>False</td>\n",
       "      <td>False</td>\n",
       "      <td>False</td>\n",
       "      <td>False</td>\n",
       "      <td>False</td>\n",
       "      <td>False</td>\n",
       "      <td>False</td>\n",
       "      <td>False</td>\n",
       "      <td>False</td>\n",
       "      <td>False</td>\n",
       "      <td>False</td>\n",
       "      <td>False</td>\n",
       "      <td>False</td>\n",
       "      <td>False</td>\n",
       "      <td>False</td>\n",
       "      <td>False</td>\n",
       "      <td>False</td>\n",
       "      <td>False</td>\n",
       "      <td>False</td>\n",
       "      <td>False</td>\n",
       "    </tr>\n",
       "    <tr>\n",
       "      <th>307971</th>\n",
       "      <td>False</td>\n",
       "      <td>False</td>\n",
       "      <td>False</td>\n",
       "      <td>False</td>\n",
       "      <td>False</td>\n",
       "      <td>False</td>\n",
       "      <td>False</td>\n",
       "      <td>False</td>\n",
       "      <td>False</td>\n",
       "      <td>False</td>\n",
       "      <td>False</td>\n",
       "      <td>False</td>\n",
       "      <td>False</td>\n",
       "      <td>False</td>\n",
       "      <td>False</td>\n",
       "      <td>False</td>\n",
       "      <td>False</td>\n",
       "      <td>False</td>\n",
       "      <td>False</td>\n",
       "      <td>False</td>\n",
       "    </tr>\n",
       "    <tr>\n",
       "      <th>307972</th>\n",
       "      <td>False</td>\n",
       "      <td>False</td>\n",
       "      <td>False</td>\n",
       "      <td>False</td>\n",
       "      <td>False</td>\n",
       "      <td>False</td>\n",
       "      <td>False</td>\n",
       "      <td>False</td>\n",
       "      <td>False</td>\n",
       "      <td>False</td>\n",
       "      <td>False</td>\n",
       "      <td>False</td>\n",
       "      <td>False</td>\n",
       "      <td>False</td>\n",
       "      <td>False</td>\n",
       "      <td>False</td>\n",
       "      <td>False</td>\n",
       "      <td>False</td>\n",
       "      <td>False</td>\n",
       "      <td>False</td>\n",
       "    </tr>\n",
       "  </tbody>\n",
       "</table>\n",
       "<p>307973 rows × 20 columns</p>\n",
       "</div>"
      ],
      "text/plain": [
       "        Accident_Index  Accident Date  Junction_Control  Junction_Detail  \\\n",
       "0                False          False             False            False   \n",
       "1                False          False             False            False   \n",
       "2                False          False             False            False   \n",
       "3                False          False             False            False   \n",
       "4                False          False             False            False   \n",
       "...                ...            ...               ...              ...   \n",
       "307968           False          False             False            False   \n",
       "307969           False          False             False            False   \n",
       "307970           False          False             False            False   \n",
       "307971           False          False             False            False   \n",
       "307972           False          False             False            False   \n",
       "\n",
       "        Accident_Severity  Latitude  Light_Conditions  \\\n",
       "0                   False     False             False   \n",
       "1                   False     False             False   \n",
       "2                   False     False             False   \n",
       "3                   False     False             False   \n",
       "4                   False     False             False   \n",
       "...                   ...       ...               ...   \n",
       "307968              False     False             False   \n",
       "307969              False     False             False   \n",
       "307970              False     False             False   \n",
       "307971              False     False             False   \n",
       "307972              False     False             False   \n",
       "\n",
       "        Local_Authority_(District)  Carriageway_Hazards  Longitude  \\\n",
       "0                            False                False      False   \n",
       "1                            False                False      False   \n",
       "2                            False                False      False   \n",
       "3                            False                False      False   \n",
       "4                            False                False      False   \n",
       "...                            ...                  ...        ...   \n",
       "307968                       False                False      False   \n",
       "307969                       False                False      False   \n",
       "307970                       False                False      False   \n",
       "307971                       False                False      False   \n",
       "307972                       False                False      False   \n",
       "\n",
       "        Number_of_Casualties  Number_of_Vehicles  Police_Force  \\\n",
       "0                      False               False         False   \n",
       "1                      False               False         False   \n",
       "2                      False               False         False   \n",
       "3                      False               False         False   \n",
       "4                      False               False         False   \n",
       "...                      ...                 ...           ...   \n",
       "307968                 False               False         False   \n",
       "307969                 False               False         False   \n",
       "307970                 False               False         False   \n",
       "307971                 False               False         False   \n",
       "307972                 False               False         False   \n",
       "\n",
       "        Road_Surface_Conditions  Road_Type  Speed_limit   Time  \\\n",
       "0                         False      False        False  False   \n",
       "1                         False      False        False  False   \n",
       "2                         False      False        False  False   \n",
       "3                         False      False        False  False   \n",
       "4                         False      False        False  False   \n",
       "...                         ...        ...          ...    ...   \n",
       "307968                    False      False        False  False   \n",
       "307969                    False      False        False  False   \n",
       "307970                    False      False        False  False   \n",
       "307971                    False      False        False  False   \n",
       "307972                    False      False        False  False   \n",
       "\n",
       "        Urban_or_Rural_Area  Weather_Conditions  Vehicle_Type  \n",
       "0                     False               False         False  \n",
       "1                     False               False         False  \n",
       "2                     False               False         False  \n",
       "3                     False               False         False  \n",
       "4                     False               False         False  \n",
       "...                     ...                 ...           ...  \n",
       "307968                False               False         False  \n",
       "307969                False               False         False  \n",
       "307970                False               False         False  \n",
       "307971                False               False         False  \n",
       "307972                False               False         False  \n",
       "\n",
       "[307973 rows x 20 columns]"
      ]
     },
     "execution_count": 8,
     "metadata": {},
     "output_type": "execute_result"
    }
   ],
   "source": [
    "data.isnull()"
   ]
  },
  {
   "cell_type": "code",
   "execution_count": 9,
   "metadata": {},
   "outputs": [
    {
     "data": {
      "text/plain": [
       "Accident_Index                   0\n",
       "Accident Date                    0\n",
       "Junction_Control                 0\n",
       "Junction_Detail                  0\n",
       "Accident_Severity                0\n",
       "Latitude                         0\n",
       "Light_Conditions                 0\n",
       "Local_Authority_(District)       0\n",
       "Carriageway_Hazards              3\n",
       "Longitude                        0\n",
       "Number_of_Casualties             0\n",
       "Number_of_Vehicles               0\n",
       "Police_Force                     0\n",
       "Road_Surface_Conditions        317\n",
       "Road_Type                     1534\n",
       "Speed_limit                      0\n",
       "Time                            17\n",
       "Urban_or_Rural_Area              0\n",
       "Weather_Conditions            6057\n",
       "Vehicle_Type                     0\n",
       "dtype: int64"
      ]
     },
     "execution_count": 9,
     "metadata": {},
     "output_type": "execute_result"
    }
   ],
   "source": [
    "data.isnull().sum()"
   ]
  },
  {
   "cell_type": "code",
   "execution_count": 10,
   "metadata": {},
   "outputs": [
    {
     "data": {
      "text/plain": [
       "<Axes: >"
      ]
     },
     "execution_count": 10,
     "metadata": {},
     "output_type": "execute_result"
    },
    {
     "data": {
      "image/png": "[encoded data removed]",
      "text/plain": [
       "<Figure size 640x480 with 2 Axes>"
      ]
     },
     "metadata": {},
     "output_type": "display_data"
    }
   ],
   "source": [
    "sns.heatmap(data.isnull())"
   ]
  },
  {
   "cell_type": "markdown",
   "metadata": {},
   "source": [
    "##### Task 1.2: Add column Month"
   ]
  },
  {
   "cell_type": "code",
   "execution_count": 11,
   "metadata": {},
   "outputs": [
    {
     "data": {
      "text/html": [
       "<div>\n",
       "<style scoped>\n",
       "    .dataframe tbody tr th:only-of-type {\n",
       "        vertical-align: middle;\n",
       "    }\n",
       "\n",
       "    .dataframe tbody tr th {\n",
       "        vertical-align: top;\n",
       "    }\n",
       "\n",
       "    .dataframe thead th {\n",
       "        text-align: right;\n",
       "    }\n",
       "</style>\n",
       "<table border=\"1\" class=\"dataframe\">\n",
       "  <thead>\n",
       "    <tr style=\"text-align: right;\">\n",
       "      <th></th>\n",
       "      <th>Accident_Index</th>\n",
       "      <th>Accident Date</th>\n",
       "      <th>Junction_Control</th>\n",
       "      <th>Junction_Detail</th>\n",
       "      <th>Accident_Severity</th>\n",
       "      <th>Latitude</th>\n",
       "      <th>Light_Conditions</th>\n",
       "      <th>Local_Authority_(District)</th>\n",
       "      <th>Carriageway_Hazards</th>\n",
       "      <th>Longitude</th>\n",
       "      <th>Number_of_Casualties</th>\n",
       "      <th>Number_of_Vehicles</th>\n",
       "      <th>Police_Force</th>\n",
       "      <th>Road_Surface_Conditions</th>\n",
       "      <th>Road_Type</th>\n",
       "      <th>Speed_limit</th>\n",
       "      <th>Time</th>\n",
       "      <th>Urban_or_Rural_Area</th>\n",
       "      <th>Weather_Conditions</th>\n",
       "      <th>Vehicle_Type</th>\n",
       "    </tr>\n",
       "  </thead>\n",
       "  <tbody>\n",
       "    <tr>\n",
       "      <th>0</th>\n",
       "      <td>200901BS70001</td>\n",
       "      <td>2021-01-01</td>\n",
       "      <td>Give way or uncontrolled</td>\n",
       "      <td>T or staggered junction</td>\n",
       "      <td>Serious</td>\n",
       "      <td>51.512273</td>\n",
       "      <td>Daylight</td>\n",
       "      <td>Kensington and Chelsea</td>\n",
       "      <td>none</td>\n",
       "      <td>-0.201349</td>\n",
       "      <td>1</td>\n",
       "      <td>2</td>\n",
       "      <td>Metropolitan Police</td>\n",
       "      <td>Dry</td>\n",
       "      <td>One way street</td>\n",
       "      <td>30</td>\n",
       "      <td>15:11:00</td>\n",
       "      <td>Urban</td>\n",
       "      <td>Fine no high winds</td>\n",
       "      <td>Car</td>\n",
       "    </tr>\n",
       "    <tr>\n",
       "      <th>1</th>\n",
       "      <td>200901BS70002</td>\n",
       "      <td>2021-01-05</td>\n",
       "      <td>Give way or uncontrolled</td>\n",
       "      <td>Crossroads</td>\n",
       "      <td>Serious</td>\n",
       "      <td>51.514399</td>\n",
       "      <td>Daylight</td>\n",
       "      <td>Kensington and Chelsea</td>\n",
       "      <td>none</td>\n",
       "      <td>-0.199248</td>\n",
       "      <td>11</td>\n",
       "      <td>2</td>\n",
       "      <td>Metropolitan Police</td>\n",
       "      <td>Wet or damp</td>\n",
       "      <td>Single carriageway</td>\n",
       "      <td>30</td>\n",
       "      <td>10:59:00</td>\n",
       "      <td>Urban</td>\n",
       "      <td>Fine no high winds</td>\n",
       "      <td>Taxi/Private hire car</td>\n",
       "    </tr>\n",
       "    <tr>\n",
       "      <th>2</th>\n",
       "      <td>200901BS70003</td>\n",
       "      <td>2021-01-04</td>\n",
       "      <td>Give way or uncontrolled</td>\n",
       "      <td>T or staggered junction</td>\n",
       "      <td>Slight</td>\n",
       "      <td>51.486668</td>\n",
       "      <td>Daylight</td>\n",
       "      <td>Kensington and Chelsea</td>\n",
       "      <td>none</td>\n",
       "      <td>-0.179599</td>\n",
       "      <td>1</td>\n",
       "      <td>2</td>\n",
       "      <td>Metropolitan Police</td>\n",
       "      <td>Dry</td>\n",
       "      <td>Single carriageway</td>\n",
       "      <td>30</td>\n",
       "      <td>14:19:00</td>\n",
       "      <td>Urban</td>\n",
       "      <td>Fine no high winds</td>\n",
       "      <td>Taxi/Private hire car</td>\n",
       "    </tr>\n",
       "    <tr>\n",
       "      <th>3</th>\n",
       "      <td>200901BS70004</td>\n",
       "      <td>2021-01-05</td>\n",
       "      <td>Auto traffic signal</td>\n",
       "      <td>T or staggered junction</td>\n",
       "      <td>Serious</td>\n",
       "      <td>51.507804</td>\n",
       "      <td>Daylight</td>\n",
       "      <td>Kensington and Chelsea</td>\n",
       "      <td>none</td>\n",
       "      <td>-0.203110</td>\n",
       "      <td>1</td>\n",
       "      <td>2</td>\n",
       "      <td>Metropolitan Police</td>\n",
       "      <td>Frost or ice</td>\n",
       "      <td>Single carriageway</td>\n",
       "      <td>30</td>\n",
       "      <td>08:10:00</td>\n",
       "      <td>Urban</td>\n",
       "      <td>Other</td>\n",
       "      <td>Motorcycle over 500cc</td>\n",
       "    </tr>\n",
       "    <tr>\n",
       "      <th>4</th>\n",
       "      <td>200901BS70005</td>\n",
       "      <td>2021-01-06</td>\n",
       "      <td>Auto traffic signal</td>\n",
       "      <td>Crossroads</td>\n",
       "      <td>Serious</td>\n",
       "      <td>51.482076</td>\n",
       "      <td>Darkness - lights lit</td>\n",
       "      <td>Kensington and Chelsea</td>\n",
       "      <td>none</td>\n",
       "      <td>-0.173445</td>\n",
       "      <td>1</td>\n",
       "      <td>2</td>\n",
       "      <td>Metropolitan Police</td>\n",
       "      <td>Dry</td>\n",
       "      <td>Single carriageway</td>\n",
       "      <td>30</td>\n",
       "      <td>17:25:00</td>\n",
       "      <td>Urban</td>\n",
       "      <td>Fine no high winds</td>\n",
       "      <td>Car</td>\n",
       "    </tr>\n",
       "  </tbody>\n",
       "</table>\n",
       "</div>"
      ],
      "text/plain": [
       "  Accident_Index Accident Date          Junction_Control  \\\n",
       "0  200901BS70001    2021-01-01  Give way or uncontrolled   \n",
       "1  200901BS70002    2021-01-05  Give way or uncontrolled   \n",
       "2  200901BS70003    2021-01-04  Give way or uncontrolled   \n",
       "3  200901BS70004    2021-01-05       Auto traffic signal   \n",
       "4  200901BS70005    2021-01-06       Auto traffic signal   \n",
       "\n",
       "           Junction_Detail Accident_Severity   Latitude  \\\n",
       "0  T or staggered junction           Serious  51.512273   \n",
       "1               Crossroads           Serious  51.514399   \n",
       "2  T or staggered junction            Slight  51.486668   \n",
       "3  T or staggered junction           Serious  51.507804   \n",
       "4               Crossroads           Serious  51.482076   \n",
       "\n",
       "        Light_Conditions Local_Authority_(District) Carriageway_Hazards  \\\n",
       "0               Daylight     Kensington and Chelsea                none   \n",
       "1               Daylight     Kensington and Chelsea                none   \n",
       "2               Daylight     Kensington and Chelsea                none   \n",
       "3               Daylight     Kensington and Chelsea                none   \n",
       "4  Darkness - lights lit     Kensington and Chelsea                none   \n",
       "\n",
       "   Longitude  Number_of_Casualties  Number_of_Vehicles         Police_Force  \\\n",
       "0  -0.201349                     1                   2  Metropolitan Police   \n",
       "1  -0.199248                    11                   2  Metropolitan Police   \n",
       "2  -0.179599                     1                   2  Metropolitan Police   \n",
       "3  -0.203110                     1                   2  Metropolitan Police   \n",
       "4  -0.173445                     1                   2  Metropolitan Police   \n",
       "\n",
       "  Road_Surface_Conditions           Road_Type  Speed_limit      Time  \\\n",
       "0                     Dry      One way street           30  15:11:00   \n",
       "1             Wet or damp  Single carriageway           30  10:59:00   \n",
       "2                     Dry  Single carriageway           30  14:19:00   \n",
       "3            Frost or ice  Single carriageway           30  08:10:00   \n",
       "4                     Dry  Single carriageway           30  17:25:00   \n",
       "\n",
       "  Urban_or_Rural_Area  Weather_Conditions           Vehicle_Type  \n",
       "0               Urban  Fine no high winds                    Car  \n",
       "1               Urban  Fine no high winds  Taxi/Private hire car  \n",
       "2               Urban  Fine no high winds  Taxi/Private hire car  \n",
       "3               Urban               Other  Motorcycle over 500cc  \n",
       "4               Urban  Fine no high winds                    Car  "
      ]
     },
     "execution_count": 11,
     "metadata": {},
     "output_type": "execute_result"
    }
   ],
   "source": [
    "data.head()"
   ]
  },
  {
   "cell_type": "code",
   "execution_count": 12,
   "metadata": {},
   "outputs": [],
   "source": [
    "data['Month'] = data['Accident Date'].dt.month"
   ]
  },
  {
   "cell_type": "code",
   "execution_count": 13,
   "metadata": {},
   "outputs": [],
   "source": [
    "moving_column_month = data.pop(\"Month\")\n",
    "data.insert(2, \"Month\", moving_column_month)"
   ]
  },
  {
   "cell_type": "markdown",
   "metadata": {},
   "source": [
    "##### Task 1.3: Add column Year"
   ]
  },
  {
   "cell_type": "code",
   "execution_count": 14,
   "metadata": {},
   "outputs": [],
   "source": [
    "data[\"Year\"] = data['Accident Date'].dt.year"
   ]
  },
  {
   "cell_type": "code",
   "execution_count": 15,
   "metadata": {},
   "outputs": [],
   "source": [
    "moving_column_year = data.pop(\"Year\")\n",
    "data.insert(3, \"Year\", moving_column_year)"
   ]
  },
  {
   "cell_type": "markdown",
   "metadata": {},
   "source": [
    "##### Task 1.4: Add column Day of Week"
   ]
  },
  {
   "cell_type": "code",
   "execution_count": 16,
   "metadata": {},
   "outputs": [],
   "source": [
    "data['Day of Week'] = data['Accident Date'].dt.day_name()"
   ]
  },
  {
   "cell_type": "code",
   "execution_count": 17,
   "metadata": {},
   "outputs": [],
   "source": [
    "moving_column_day_name = data.pop(\"Day of Week\")\n",
    "data.insert(4, \"Day of Week\", moving_column_day_name)"
   ]
  },
  {
   "cell_type": "markdown",
   "metadata": {},
   "source": [
    "### Task 2: Reporting"
   ]
  },
  {
   "cell_type": "markdown",
   "metadata": {},
   "source": [
    "##### Task 2.1: How many Urban & TV Rural area are in the dataset "
   ]
  },
  {
   "cell_type": "code",
   "execution_count": 18,
   "metadata": {},
   "outputs": [
    {
     "data": {
      "text/plain": [
       "Urban_or_Rural_Area\n",
       "Rural    109441\n",
       "Urban    198532\n",
       "Name: Urban_or_Rural_Area, dtype: int64"
      ]
     },
     "execution_count": 18,
     "metadata": {},
     "output_type": "execute_result"
    }
   ],
   "source": [
    "data.groupby(\"Urban_or_Rural_Area\").Urban_or_Rural_Area.count()"
   ]
  },
  {
   "cell_type": "code",
   "execution_count": 19,
   "metadata": {},
   "outputs": [
    {
     "data": {
      "text/plain": [
       "<Axes: xlabel='Urban_or_Rural_Area', ylabel='count'>"
      ]
     },
     "execution_count": 19,
     "metadata": {},
     "output_type": "execute_result"
    },
    {
     "data": {
      "image/png": "[encoded data removed]",
      "text/plain": [
       "<Figure size 640x480 with 1 Axes>"
      ]
     },
     "metadata": {},
     "output_type": "display_data"
    }
   ],
   "source": [
    "sns.countplot(x = data[\"Urban_or_Rural_Area\"])"
   ]
  },
  {
   "cell_type": "markdown",
   "metadata": {},
   "source": [
    "##### Task 2.2: Which year has the highest number of accidents?"
   ]
  },
  {
   "cell_type": "code",
   "execution_count": 20,
   "metadata": {},
   "outputs": [
    {
     "name": "stdout",
     "output_type": "stream",
     "text": [
      "{2021, 2022}\n"
     ]
    }
   ],
   "source": [
    "print(set(data[\"Year\"]))"
   ]
  },
  {
   "cell_type": "code",
   "execution_count": 21,
   "metadata": {},
   "outputs": [
    {
     "data": {
      "text/plain": [
       "Year\n",
       "2021    163554\n",
       "2022    144419\n",
       "Name: Year, dtype: int64"
      ]
     },
     "execution_count": 21,
     "metadata": {},
     "output_type": "execute_result"
    }
   ],
   "source": [
    "data.groupby(\"Year\").Year.count()"
   ]
  },
  {
   "cell_type": "code",
   "execution_count": 22,
   "metadata": {},
   "outputs": [
    {
     "data": {
      "text/plain": [
       "<Axes: xlabel='Year', ylabel='count'>"
      ]
     },
     "execution_count": 22,
     "metadata": {},
     "output_type": "execute_result"
    },
    {
     "data": {
      "image/png": "[encoded data removed]",
      "text/plain": [
       "<Figure size 640x480 with 1 Axes>"
      ]
     },
     "metadata": {},
     "output_type": "display_data"
    }
   ],
   "source": [
    "sns.countplot(x = data[\"Year\"])"
   ]
  },
  {
   "cell_type": "markdown",
   "metadata": {},
   "source": [
    "##### Task 2.3: Which month has the highest number of accidents?"
   ]
  },
  {
   "cell_type": "code",
   "execution_count": 23,
   "metadata": {},
   "outputs": [
    {
     "data": {
      "text/plain": [
       "Month\n",
       "1     23384\n",
       "2     21885\n",
       "3     25543\n",
       "4     24225\n",
       "5     26183\n",
       "6     26748\n",
       "7     26953\n",
       "8     25503\n",
       "9     26752\n",
       "10    28368\n",
       "11    29095\n",
       "12    23334\n",
       "Name: Month, dtype: int64"
      ]
     },
     "execution_count": 23,
     "metadata": {},
     "output_type": "execute_result"
    }
   ],
   "source": [
    "data.groupby(\"Month\").Month.count()"
   ]
  },
  {
   "cell_type": "code",
   "execution_count": 24,
   "metadata": {},
   "outputs": [
    {
     "data": {
      "text/plain": [
       "Text(0.5, 1.0, 'Top month have the highest number of accidents')"
      ]
     },
     "execution_count": 24,
     "metadata": {},
     "output_type": "execute_result"
    },
    {
     "data": {
      "image/png": "[encoded data removed]",
      "text/plain": [
       "<Figure size 640x480 with 1 Axes>"
      ]
     },
     "metadata": {},
     "output_type": "display_data"
    }
   ],
   "source": [
    "accident_by_month = data[\"Month\"].value_counts().sort_index()\n",
    "Month = range(1, 13)\n",
    "plt.bar(x = Month, height = accident_by_month)\n",
    "plt.xticks(Month)\n",
    "plt.xlabel(\"Month\")\n",
    "plt.ylabel(\"Number of accident\")\n",
    "plt.title(\"Top month have the highest number of accidents\")\n"
   ]
  },
  {
   "cell_type": "markdown",
   "metadata": {},
   "source": [
    "##### Task 2.4: Which Light_Conditions has the highest number of accidents?"
   ]
  },
  {
   "cell_type": "code",
   "execution_count": 25,
   "metadata": {},
   "outputs": [
    {
     "data": {
      "image/png": "[encoded data removed]",
      "text/plain": [
       "<Figure size 640x480 with 1 Axes>"
      ]
     },
     "metadata": {},
     "output_type": "display_data"
    }
   ],
   "source": [
    "light_conditions_counts = data[\"Light_Conditions\"].value_counts()\n",
    "\n",
    "# Vẽ biểu đồ cột\n",
    "light_conditions_counts.plot(kind='bar')\n",
    "plt.xlabel('Light Conditions')\n",
    "plt.ylabel('Number of Accident')\n",
    "plt.xticks(rotation=45)\n",
    "plt.title(\"Top lighting conditions have the highest number of accidents\")\n",
    "plt.show()"
   ]
  },
  {
   "cell_type": "markdown",
   "metadata": {},
   "source": [
    "##### Task 2.5: Which type of road has the most accidents?"
   ]
  },
  {
   "cell_type": "code",
   "execution_count": 26,
   "metadata": {},
   "outputs": [
    {
     "data": {
      "image/png": "[encoded data removed]",
      "text/plain": [
       "<Figure size 640x480 with 1 Axes>"
      ]
     },
     "metadata": {},
     "output_type": "display_data"
    }
   ],
   "source": [
    "road_type_counts = data[\"Road_Type\"].value_counts()\n",
    "\n",
    "road_type_counts.plot(kind='bar')\n",
    "plt.title('Road type distribution when an accident occurs')\n",
    "plt.xlabel('Road Type')\n",
    "plt.ylabel('Number of accident')\n",
    "plt.xticks(rotation=45)\n",
    "plt.show()"
   ]
  },
  {
   "cell_type": "markdown",
   "metadata": {},
   "source": [
    "##### Task 2.6: Number of accidents by vehicle type?"
   ]
  },
  {
   "cell_type": "code",
   "execution_count": 27,
   "metadata": {},
   "outputs": [
    {
     "data": {
      "text/plain": [
       "Text(0.5, 1.0, 'Number of accident by Vehicle type')"
      ]
     },
     "execution_count": 27,
     "metadata": {},
     "output_type": "execute_result"
    },
    {
     "data": {
      "image/png": "[encoded data removed]",
      "text/plain": [
       "<Figure size 640x480 with 1 Axes>"
      ]
     },
     "metadata": {},
     "output_type": "display_data"
    }
   ],
   "source": [
    "accidents_by_vehicle = data['Vehicle_Type'].value_counts().reset_index()\n",
    "accidents_by_vehicle.columns = ['Vehicle_Type', 'Number_of_Accidents']\n",
    "\n",
    "accidents_by_vehicle = accidents_by_vehicle.sort_values(by='Number_of_Accidents', ascending=False)\n",
    "\n",
    "# Tạo biểu đồ cột ngang\n",
    "plt.barh(accidents_by_vehicle['Vehicle_Type'], accidents_by_vehicle['Number_of_Accidents'])\n",
    "plt.xlabel('Number of accident')\n",
    "plt.ylabel('Vehicle type')\n",
    "plt.title('Number of accident by Vehicle type')"
   ]
  },
  {
   "cell_type": "markdown",
   "metadata": {},
   "source": [
    "##### Task 2.7: What is the distribution of accident severity?"
   ]
  },
  {
   "cell_type": "code",
   "execution_count": 28,
   "metadata": {},
   "outputs": [
    {
     "data": {
      "image/png": "[encoded data removed]",
      "text/plain": [
       "<Figure size 640x480 with 1 Axes>"
      ]
     },
     "metadata": {},
     "output_type": "display_data"
    }
   ],
   "source": [
    "severity_counts = data[\"Accident_Severity\"].value_counts()\n",
    "plt.pie(severity_counts, labels=severity_counts.index, autopct=\"%.1f%%\")\n",
    "plt.title(\"Phân bố mức độ nghiêm trọng của tai nạn\")\n",
    "plt.show()"
   ]
  },
  {
   "cell_type": "markdown",
   "metadata": {},
   "source": [
    "##### Task 2.8: Relationship between speed limit and accident severity?"
   ]
  },
  {
   "cell_type": "code",
   "execution_count": 29,
   "metadata": {},
   "outputs": [
    {
     "data": {
      "image/png": "[encoded data removed]",
      "text/plain": [
       "<Figure size 640x480 with 1 Axes>"
      ]
     },
     "metadata": {},
     "output_type": "display_data"
    }
   ],
   "source": [
    "sns.boxplot(x='Speed_limit', y='Accident_Severity', data=data)\n",
    "plt.title('Relationship between speed limit and accident severity')\n",
    "plt.xlabel('Speed Limit')\n",
    "plt.ylabel('Accident Severity')\n",
    "plt.show()"
   ]
  },
  {
   "cell_type": "markdown",
   "metadata": {},
   "source": [
    "##### Task 2.9: Relationship between Weather Conditions and accident severity?"
   ]
  },
  {
   "cell_type": "code",
   "execution_count": 30,
   "metadata": {},
   "outputs": [
    {
     "data": {
      "image/png": "[encoded data removed]",
      "text/plain": [
       "<Figure size 1200x600 with 1 Axes>"
      ]
     },
     "metadata": {},
     "output_type": "display_data"
    }
   ],
   "source": [
    "accidents_by_weather = data.groupby('Weather_Conditions')['Accident_Index'].count().reset_index()\n",
    "accidents_by_weather = accidents_by_weather.sort_values(by='Accident_Index', ascending=False)\n",
    "\n",
    "# Vẽ biểu đồ cột\n",
    "plt.figure(figsize=(12, 6))\n",
    "sns.barplot(x='Weather_Conditions', y='Accident_Index', data=accidents_by_weather, palette='viridis')\n",
    "\n",
    "# Thêm nhãn và tiêu đề\n",
    "plt.xlabel('Weather Conditions')\n",
    "plt.ylabel('Number of accident')\n",
    "plt.xticks(rotation=45, ha=\"right\")  # Điều chỉnh xoay và căn chỉnh ngang để đọc dễ dàng hơn\n",
    "plt.title('Relationship between Weather Conditions and Number of Accidents')\n",
    "\n",
    "# Hiển thị biểu đồ\n",
    "plt.show()"
   ]
  },
  {
   "cell_type": "markdown",
   "metadata": {},
   "source": [
    "##### Task 2.10: Relationship between Intersection Control and Accident Severity"
   ]
  },
  {
   "cell_type": "code",
   "execution_count": 47,
   "metadata": {},
   "outputs": [
    {
     "data": {
      "image/png": "[encoded data removed]",
      "text/plain": [
       "<Figure size 1200x600 with 1 Axes>"
      ]
     },
     "metadata": {},
     "output_type": "display_data"
    }
   ],
   "source": [
    "plt.figure(figsize=(12, 6))\n",
    "sns.countplot(x='Junction_Control', hue='Accident_Severity', data=data, palette='viridis')\n",
    "\n",
    "plt.xlabel('Junction Control')\n",
    "plt.ylabel('Number of Accident')\n",
    "plt.title('Relationship between Intersection Control and Accident Severity')\n",
    "plt.xticks(rotation=45)\n",
    "plt.legend(title='Accident Severity', loc='upper right')\n",
    "\n",
    "sns.despine()\n"
   ]
  },
  {
   "cell_type": "markdown",
   "metadata": {},
   "source": [
    "##### Task 2.11: Dependency between Weather and Road Conditions"
   ]
  },
  {
   "cell_type": "code",
   "execution_count": 48,
   "metadata": {},
   "outputs": [
    {
     "data": {
      "text/plain": [
       "Text(0.5, 1.0, 'Dependency between Weather and Road Conditions')"
      ]
     },
     "execution_count": 48,
     "metadata": {},
     "output_type": "execute_result"
    },
    {
     "data": {
      "image/png": "[encoded data removed]",
      "text/plain": [
       "<Figure size 1200x800 with 2 Axes>"
      ]
     },
     "metadata": {},
     "output_type": "display_data"
    }
   ],
   "source": [
    "table = pd.crosstab(data['Weather_Conditions'], data['Road_Surface_Conditions'])\n",
    "\n",
    "plt.figure(figsize=(12, 8))\n",
    "sns.heatmap(table, annot=True, cmap='viridis', cbar=True, fmt='d')\n",
    "\n",
    "plt.xlabel('Road Surface Conditions')\n",
    "plt.ylabel('Weather Conditions')\n",
    "plt.title('Dependency between Weather and Road Conditions')"
   ]
  },
  {
   "cell_type": "markdown",
   "metadata": {},
   "source": [
    "##### Task 2.12: Number of accidents by district?"
   ]
  },
  {
   "cell_type": "code",
   "execution_count": 31,
   "metadata": {},
   "outputs": [
    {
     "data": {
      "application/vnd.plotly.v1+json": {
       "config": {
        "plotlyServerURL": "https://plot.ly"
       },
       "data": [
        {
         "branchvalues": "total",
         "domain": {
          "x": [
           0,
           1
          ],
          "y": [
           0,
           1
          ]
         },
         "hovertemplate": "labels=%{label}<br>Accident_Index=%{value}<br>parent=%{parent}<br>id=%{id}<extra></extra>",
         "ids": [
          "Aberdeen City",
          "Aberdeenshire",
          "Adur",
          "Allerdale",
          "Alnwick",
          "Amber Valley",
          "Angus",
          "Argyll and Bute",
          "Arun",
          "Ashfield",
          "Ashford",
          "Aylesbury Vale",
          "Babergh",
          "Barking and Dagenham",
          "Barnet",
          "Barnsley",
          "Barrow-in-Furness",
          "Basildon",
          "Basingstoke and Deane",
          "Bassetlaw",
          "Bath and North East Somerset",
          "Bedford",
          "Berwick-upon-Tweed",
          "Bexley",
          "Birmingham",
          "Blaby",
          "Blackburn with Darwen",
          "Blackpool",
          "Blaenau Gwent",
          "Blaeu Gwent",
          "Blyth Valley",
          "Bolsover",
          "Bolton",
          "Boston",
          "Bournemouth",
          "Bracknell Forest",
          "Bradford",
          "Braintree",
          "Breckland",
          "Brent",
          "Brentwood",
          "Bridgend",
          "Bridgnorth",
          "Brighton and Hove",
          "Bristol, City of",
          "Broadland",
          "Bromley",
          "Bromsgrove",
          "Broxbourne",
          "Broxtowe",
          "Burnley",
          "Bury",
          "Caerphilly",
          "Calderdale",
          "Cambridge",
          "Camden",
          "Cannock Chase",
          "Canterbury",
          "Caradon",
          "Cardiff",
          "Carlisle",
          "Carmarthenshire",
          "Carrick",
          "Castle Morpeth",
          "Castle Point",
          "Central Bedfordshire",
          "Ceredigion",
          "Charnwood",
          "Chelmsford",
          "Cheltenham",
          "Cherwell",
          "Cheshire East",
          "Cheshire West and Chester",
          "Chester",
          "Chester-le-Street",
          "Chesterfield",
          "Chichester",
          "Chiltern",
          "Chorley",
          "Christchurch",
          "City of London",
          "Clackmannanshire",
          "Clackmannshire",
          "Colchester",
          "Congleton",
          "Conwy",
          "Copeland",
          "Corby",
          "Cornwall",
          "Cotswold",
          "County Durham",
          "Coventry",
          "Craven",
          "Crawley",
          "Crewe and Nantwich",
          "Crewe and ntwich",
          "Croydon",
          "Dacorum",
          "Darlington",
          "Dartford",
          "Daventry",
          "Denbighshire",
          "Derby",
          "Derbyshire Dales",
          "Derwentside",
          "Doncaster",
          "Dover",
          "Dudley",
          "Dumfries and Galloway",
          "Dundee City",
          "Durham",
          "Ealing",
          "Easington",
          "East Ayrshire",
          "East Cambridgeshire",
          "East Devon",
          "East Dorset",
          "East Dunbartonshire",
          "East Hampshire",
          "East Hertfordshire",
          "East Lindsey",
          "East Lothian",
          "East Northamptonshire",
          "East Renfrewshire",
          "East Riding of Yorkshire",
          "East Staffordshire",
          "Eastbourne",
          "Eastleigh",
          "Eden",
          "Edinburgh, City of",
          "Ellesmere Port and Neston",
          "Elmbridge",
          "Enfield",
          "Epping Forest",
          "Epsom and Ewell",
          "Erewash",
          "Exeter",
          "Falkirk",
          "Fareham",
          "Fenland",
          "Fife",
          "Flintshire",
          "Forest Heath",
          "Forest of Dean",
          "Fylde",
          "Gateshead",
          "Gedling",
          "Glasgow City",
          "Gloucester",
          "Gosport",
          "Gravesham",
          "Great Yarmouth",
          "Greenwich",
          "Guildford",
          "Gwynedd",
          "Hackney",
          "Halton",
          "Hambleton",
          "Hammersmith and Fulham",
          "Harborough",
          "Haringey",
          "Harlow",
          "Harrogate",
          "Harrow",
          "Hart",
          "Hartlepool",
          "Hastings",
          "Havant",
          "Havering",
          "Herefordshire, County of",
          "Hertsmere",
          "High Peak",
          "Highland",
          "Hillingdon",
          "Hinckley and Bosworth",
          "Horsham",
          "Hounslow",
          "Huntingdonshire",
          "Hyndburn",
          "Inverclyde",
          "Ipswich",
          "Isle of Anglesey",
          "Isle of Wight",
          "Islington",
          "Kennet",
          "Kensington and Chelsea",
          "Kerrier",
          "Kettering",
          "King's Lynn and West Norfolk",
          "Kingston upon Hull, City of",
          "Kingston upon Thames",
          "Kirklees",
          "Knowsley",
          "Lambeth",
          "Lancaster",
          "Leeds",
          "Leicester",
          "Lewes",
          "Lewisham",
          "Lichfield",
          "Lincoln",
          "Liverpool",
          "London Airport (Heathrow)",
          "Luton",
          "Macclesfield",
          "Maidstone",
          "Maldon",
          "Malvern Hills",
          "Manchester",
          "Mansfield",
          "Medway",
          "Melton",
          "Mendip",
          "Merthyr Tydfil",
          "Merton",
          "Mid Bedfordshire",
          "Mid Devon",
          "Mid Suffolk",
          "Mid Sussex",
          "Middlesbrough",
          "Midlothian",
          "Milton Keynes",
          "Mole Valley",
          "Monmouthshire",
          "Moray",
          "Neath Port Talbot",
          "New Forest",
          "Newark and Sherwood",
          "Newcastle upon Tyne",
          "Newcastle-under-Lyme",
          "Newham",
          "Newport",
          "North Ayrshire",
          "North Cornwall",
          "North Devon",
          "North Dorset",
          "North East Derbyshire",
          "North East Lincolnshire",
          "North Hertfordshire",
          "North Kesteven",
          "North Lanarkshire",
          "North Larkshire",
          "North Lincolnshire",
          "North Norfolk",
          "North Shropshire",
          "North Somerset",
          "North Tyneside",
          "North Warwickshire",
          "North West Leicestershire",
          "North Wiltshire",
          "Northampton",
          "Northumberland",
          "Norwich",
          "Nottingham",
          "Nuneaton and Bedworth",
          "Oadby and Wigston",
          "Oldham",
          "Orkney Islands",
          "Oswestry",
          "Oxford",
          "Pembrokeshire",
          "Pendle",
          "Penwith",
          "Perth and Kinross",
          "Peterborough",
          "Plymouth",
          "Poole",
          "Portsmouth",
          "Powys",
          "Preston",
          "Purbeck",
          "Reading",
          "Redbridge",
          "Redcar and Cleveland",
          "Redditch",
          "Reigate and Banstead",
          "Renfrewshire",
          "Restormel",
          "Rhondda, Cynon, Taff",
          "Ribble Valley",
          "Richmond upon Thames",
          "Richmondshire",
          "Rochdale",
          "Rochford",
          "Rossendale",
          "Rother",
          "Rotherham",
          "Rugby",
          "Runnymede",
          "Rushcliffe",
          "Rushmoor",
          "Rutland",
          "Ryedale",
          "Salford",
          "Salisbury",
          "Sandwell",
          "Scarborough",
          "Scottish Borders",
          "Sedgefield",
          "Sedgemoor",
          "Sefton",
          "Selby",
          "Sevenoaks",
          "Sheffield",
          "Shepway",
          "Shetland Islands",
          "Shrewsbury and Atcham",
          "Shropshire",
          "Slough",
          "Solihull",
          "South Ayrshire",
          "South Bedfordshire",
          "South Bucks",
          "South Cambridgeshire",
          "South Derbyshire",
          "South Gloucestershire",
          "South Hams",
          "South Holland",
          "South Kesteven",
          "South Lakeland",
          "South Lanarkshire",
          "South Larkshire",
          "South Norfolk",
          "South Northamptonshire",
          "South Oxfordshire",
          "South Ribble",
          "South Shropshire",
          "South Somerset",
          "South Staffordshire",
          "South Tyneside",
          "Southampton",
          "Southend-on-Sea",
          "Southwark",
          "Spelthorne",
          "St. Albans",
          "St. Edmundsbury",
          "St. Helens",
          "Stafford",
          "Staffordshire Moorlands",
          "Stevege",
          "Stevenage",
          "Stirling",
          "Stockport",
          "Stockton-on-Tees",
          "Stoke-on-Trent",
          "Stratford-upon-Avon",
          "Stroud",
          "Suffolk Coastal",
          "Sunderland",
          "Surrey Heath",
          "Sutton",
          "Swale",
          "Swansea",
          "Swindon",
          "Tameside",
          "Tamworth",
          "Tandridge",
          "Taunton Deane",
          "Teesdale",
          "Teignbridge",
          "Telford and Wrekin",
          "Tendring",
          "Test Valley",
          "Tewkesbury",
          "Thanet",
          "The Vale of Glamorgan",
          "Three Rivers",
          "Thurrock",
          "Tonbridge and Malling",
          "Torbay",
          "Torfaen",
          "Torridge",
          "Tower Hamlets",
          "Trafford",
          "Tunbridge Wells",
          "Tynedale",
          "Uttlesford",
          "Vale Royal",
          "Vale of White Horse",
          "Wakefield",
          "Walsall",
          "Waltham Forest",
          "Wandsworth",
          "Wansbeck",
          "Warrington",
          "Warwick",
          "Watford",
          "Waveney",
          "Waverley",
          "Wealden",
          "Wear Valley",
          "Wellingborough",
          "Welwyn Hatfield",
          "West Berkshire",
          "West Devon",
          "West Dorset",
          "West Dunbartonshire",
          "West Lancashire",
          "West Lindsey",
          "West Lothian",
          "West Oxfordshire",
          "West Somerset",
          "West Wiltshire",
          "Western Isles",
          "Westminster",
          "Weymouth and Portland",
          "Wigan",
          "Wiltshire",
          "Winchester",
          "Windsor and Maidenhead",
          "Wirral",
          "Woking",
          "Wokingham",
          "Wolverhampton",
          "Worcester",
          "Worthing",
          "Wrexham",
          "Wychavon",
          "Wycombe",
          "Wyre",
          "Wyre Forest",
          "York"
         ],
         "labels": [
          "Aberdeen City",
          "Aberdeenshire",
          "Adur",
          "Allerdale",
          "Alnwick",
          "Amber Valley",
          "Angus",
          "Argyll and Bute",
          "Arun",
          "Ashfield",
          "Ashford",
          "Aylesbury Vale",
          "Babergh",
          "Barking and Dagenham",
          "Barnet",
          "Barnsley",
          "Barrow-in-Furness",
          "Basildon",
          "Basingstoke and Deane",
          "Bassetlaw",
          "Bath and North East Somerset",
          "Bedford",
          "Berwick-upon-Tweed",
          "Bexley",
          "Birmingham",
          "Blaby",
          "Blackburn with Darwen",
          "Blackpool",
          "Blaenau Gwent",
          "Blaeu Gwent",
          "Blyth Valley",
          "Bolsover",
          "Bolton",
          "Boston",
          "Bournemouth",
          "Bracknell Forest",
          "Bradford",
          "Braintree",
          "Breckland",
          "Brent",
          "Brentwood",
          "Bridgend",
          "Bridgnorth",
          "Brighton and Hove",
          "Bristol, City of",
          "Broadland",
          "Bromley",
          "Bromsgrove",
          "Broxbourne",
          "Broxtowe",
          "Burnley",
          "Bury",
          "Caerphilly",
          "Calderdale",
          "Cambridge",
          "Camden",
          "Cannock Chase",
          "Canterbury",
          "Caradon",
          "Cardiff",
          "Carlisle",
          "Carmarthenshire",
          "Carrick",
          "Castle Morpeth",
          "Castle Point",
          "Central Bedfordshire",
          "Ceredigion",
          "Charnwood",
          "Chelmsford",
          "Cheltenham",
          "Cherwell",
          "Cheshire East",
          "Cheshire West and Chester",
          "Chester",
          "Chester-le-Street",
          "Chesterfield",
          "Chichester",
          "Chiltern",
          "Chorley",
          "Christchurch",
          "City of London",
          "Clackmannanshire",
          "Clackmannshire",
          "Colchester",
          "Congleton",
          "Conwy",
          "Copeland",
          "Corby",
          "Cornwall",
          "Cotswold",
          "County Durham",
          "Coventry",
          "Craven",
          "Crawley",
          "Crewe and Nantwich",
          "Crewe and ntwich",
          "Croydon",
          "Dacorum",
          "Darlington",
          "Dartford",
          "Daventry",
          "Denbighshire",
          "Derby",
          "Derbyshire Dales",
          "Derwentside",
          "Doncaster",
          "Dover",
          "Dudley",
          "Dumfries and Galloway",
          "Dundee City",
          "Durham",
          "Ealing",
          "Easington",
          "East Ayrshire",
          "East Cambridgeshire",
          "East Devon",
          "East Dorset",
          "East Dunbartonshire",
          "East Hampshire",
          "East Hertfordshire",
          "East Lindsey",
          "East Lothian",
          "East Northamptonshire",
          "East Renfrewshire",
          "East Riding of Yorkshire",
          "East Staffordshire",
          "Eastbourne",
          "Eastleigh",
          "Eden",
          "Edinburgh, City of",
          "Ellesmere Port and Neston",
          "Elmbridge",
          "Enfield",
          "Epping Forest",
          "Epsom and Ewell",
          "Erewash",
          "Exeter",
          "Falkirk",
          "Fareham",
          "Fenland",
          "Fife",
          "Flintshire",
          "Forest Heath",
          "Forest of Dean",
          "Fylde",
          "Gateshead",
          "Gedling",
          "Glasgow City",
          "Gloucester",
          "Gosport",
          "Gravesham",
          "Great Yarmouth",
          "Greenwich",
          "Guildford",
          "Gwynedd",
          "Hackney",
          "Halton",
          "Hambleton",
          "Hammersmith and Fulham",
          "Harborough",
          "Haringey",
          "Harlow",
          "Harrogate",
          "Harrow",
          "Hart",
          "Hartlepool",
          "Hastings",
          "Havant",
          "Havering",
          "Herefordshire, County of",
          "Hertsmere",
          "High Peak",
          "Highland",
          "Hillingdon",
          "Hinckley and Bosworth",
          "Horsham",
          "Hounslow",
          "Huntingdonshire",
          "Hyndburn",
          "Inverclyde",
          "Ipswich",
          "Isle of Anglesey",
          "Isle of Wight",
          "Islington",
          "Kennet",
          "Kensington and Chelsea",
          "Kerrier",
          "Kettering",
          "King's Lynn and West Norfolk",
          "Kingston upon Hull, City of",
          "Kingston upon Thames",
          "Kirklees",
          "Knowsley",
          "Lambeth",
          "Lancaster",
          "Leeds",
          "Leicester",
          "Lewes",
          "Lewisham",
          "Lichfield",
          "Lincoln",
          "Liverpool",
          "London Airport (Heathrow)",
          "Luton",
          "Macclesfield",
          "Maidstone",
          "Maldon",
          "Malvern Hills",
          "Manchester",
          "Mansfield",
          "Medway",
          "Melton",
          "Mendip",
          "Merthyr Tydfil",
          "Merton",
          "Mid Bedfordshire",
          "Mid Devon",
          "Mid Suffolk",
          "Mid Sussex",
          "Middlesbrough",
          "Midlothian",
          "Milton Keynes",
          "Mole Valley",
          "Monmouthshire",
          "Moray",
          "Neath Port Talbot",
          "New Forest",
          "Newark and Sherwood",
          "Newcastle upon Tyne",
          "Newcastle-under-Lyme",
          "Newham",
          "Newport",
          "North Ayrshire",
          "North Cornwall",
          "North Devon",
          "North Dorset",
          "North East Derbyshire",
          "North East Lincolnshire",
          "North Hertfordshire",
          "North Kesteven",
          "North Lanarkshire",
          "North Larkshire",
          "North Lincolnshire",
          "North Norfolk",
          "North Shropshire",
          "North Somerset",
          "North Tyneside",
          "North Warwickshire",
          "North West Leicestershire",
          "North Wiltshire",
          "Northampton",
          "Northumberland",
          "Norwich",
          "Nottingham",
          "Nuneaton and Bedworth",
          "Oadby and Wigston",
          "Oldham",
          "Orkney Islands",
          "Oswestry",
          "Oxford",
          "Pembrokeshire",
          "Pendle",
          "Penwith",
          "Perth and Kinross",
          "Peterborough",
          "Plymouth",
          "Poole",
          "Portsmouth",
          "Powys",
          "Preston",
          "Purbeck",
          "Reading",
          "Redbridge",
          "Redcar and Cleveland",
          "Redditch",
          "Reigate and Banstead",
          "Renfrewshire",
          "Restormel",
          "Rhondda, Cynon, Taff",
          "Ribble Valley",
          "Richmond upon Thames",
          "Richmondshire",
          "Rochdale",
          "Rochford",
          "Rossendale",
          "Rother",
          "Rotherham",
          "Rugby",
          "Runnymede",
          "Rushcliffe",
          "Rushmoor",
          "Rutland",
          "Ryedale",
          "Salford",
          "Salisbury",
          "Sandwell",
          "Scarborough",
          "Scottish Borders",
          "Sedgefield",
          "Sedgemoor",
          "Sefton",
          "Selby",
          "Sevenoaks",
          "Sheffield",
          "Shepway",
          "Shetland Islands",
          "Shrewsbury and Atcham",
          "Shropshire",
          "Slough",
          "Solihull",
          "South Ayrshire",
          "South Bedfordshire",
          "South Bucks",
          "South Cambridgeshire",
          "South Derbyshire",
          "South Gloucestershire",
          "South Hams",
          "South Holland",
          "South Kesteven",
          "South Lakeland",
          "South Lanarkshire",
          "South Larkshire",
          "South Norfolk",
          "South Northamptonshire",
          "South Oxfordshire",
          "South Ribble",
          "South Shropshire",
          "South Somerset",
          "South Staffordshire",
          "South Tyneside",
          "Southampton",
          "Southend-on-Sea",
          "Southwark",
          "Spelthorne",
          "St. Albans",
          "St. Edmundsbury",
          "St. Helens",
          "Stafford",
          "Staffordshire Moorlands",
          "Stevege",
          "Stevenage",
          "Stirling",
          "Stockport",
          "Stockton-on-Tees",
          "Stoke-on-Trent",
          "Stratford-upon-Avon",
          "Stroud",
          "Suffolk Coastal",
          "Sunderland",
          "Surrey Heath",
          "Sutton",
          "Swale",
          "Swansea",
          "Swindon",
          "Tameside",
          "Tamworth",
          "Tandridge",
          "Taunton Deane",
          "Teesdale",
          "Teignbridge",
          "Telford and Wrekin",
          "Tendring",
          "Test Valley",
          "Tewkesbury",
          "Thanet",
          "The Vale of Glamorgan",
          "Three Rivers",
          "Thurrock",
          "Tonbridge and Malling",
          "Torbay",
          "Torfaen",
          "Torridge",
          "Tower Hamlets",
          "Trafford",
          "Tunbridge Wells",
          "Tynedale",
          "Uttlesford",
          "Vale Royal",
          "Vale of White Horse",
          "Wakefield",
          "Walsall",
          "Waltham Forest",
          "Wandsworth",
          "Wansbeck",
          "Warrington",
          "Warwick",
          "Watford",
          "Waveney",
          "Waverley",
          "Wealden",
          "Wear Valley",
          "Wellingborough",
          "Welwyn Hatfield",
          "West Berkshire",
          "West Devon",
          "West Dorset",
          "West Dunbartonshire",
          "West Lancashire",
          "West Lindsey",
          "West Lothian",
          "West Oxfordshire",
          "West Somerset",
          "West Wiltshire",
          "Western Isles",
          "Westminster",
          "Weymouth and Portland",
          "Wigan",
          "Wiltshire",
          "Winchester",
          "Windsor and Maidenhead",
          "Wirral",
          "Woking",
          "Wokingham",
          "Wolverhampton",
          "Worcester",
          "Worthing",
          "Wrexham",
          "Wychavon",
          "Wycombe",
          "Wyre",
          "Wyre Forest",
          "York"
         ],
         "name": "",
         "parents": [
          "",
          "",
          "",
          "",
          "",
          "",
          "",
          "",
          "",
          "",
          "",
          "",
          "",
          "",
          "",
          "",
          "",
          "",
          "",
          "",
          "",
          "",
          "",
          "",
          "",
          "",
          "",
          "",
          "",
          "",
          "",
          "",
          "",
          "",
          "",
          "",
          "",
          "",
          "",
          "",
          "",
          "",
          "",
          "",
          "",
          "",
          "",
          "",
          "",
          "",
          "",
          "",
          "",
          "",
          "",
          "",
          "",
          "",
          "",
          "",
          "",
          "",
          "",
          "",
          "",
          "",
          "",
          "",
          "",
          "",
          "",
          "",
          "",
          "",
          "",
          "",
          "",
          "",
          "",
          "",
          "",
          "",
          "",
          "",
          "",
          "",
          "",
          "",
          "",
          "",
          "",
          "",
          "",
          "",
          "",
          "",
          "",
          "",
          "",
          "",
          "",
          "",
          "",
          "",
          "",
          "",
          "",
          "",
          "",
          "",
          "",
          "",
          "",
          "",
          "",
          "",
          "",
          "",
          "",
          "",
          "",
          "",
          "",
          "",
          "",
          "",
          "",
          "",
          "",
          "",
          "",
          "",
          "",
          "",
          "",
          "",
          "",
          "",
          "",
          "",
          "",
          "",
          "",
          "",
          "",
          "",
          "",
          "",
          "",
          "",
          "",
          "",
          "",
          "",
          "",
          "",
          "",
          "",
          "",
          "",
          "",
          "",
          "",
          "",
          "",
          "",
          "",
          "",
          "",
          "",
          "",
          "",
          "",
          "",
          "",
          "",
          "",
          "",
          "",
          "",
          "",
          "",
          "",
          "",
          "",
          "",
          "",
          "",
          "",
          "",
          "",
          "",
          "",
          "",
          "",
          "",
          "",
          "",
          "",
          "",
          "",
          "",
          "",
          "",
          "",
          "",
          "",
          "",
          "",
          "",
          "",
          "",
          "",
          "",
          "",
          "",
          "",
          "",
          "",
          "",
          "",
          "",
          "",
          "",
          "",
          "",
          "",
          "",
          "",
          "",
          "",
          "",
          "",
          "",
          "",
          "",
          "",
          "",
          "",
          "",
          "",
          "",
          "",
          "",
          "",
          "",
          "",
          "",
          "",
          "",
          "",
          "",
          "",
          "",
          "",
          "",
          "",
          "",
          "",
          "",
          "",
          "",
          "",
          "",
          "",
          "",
          "",
          "",
          "",
          "",
          "",
          "",
          "",
          "",
          "",
          "",
          "",
          "",
          "",
          "",
          "",
          "",
          "",
          "",
          "",
          "",
          "",
          "",
          "",
          "",
          "",
          "",
          "",
          "",
          "",
          "",
          "",
          "",
          "",
          "",
          "",
          "",
          "",
          "",
          "",
          "",
          "",
          "",
          "",
          "",
          "",
          "",
          "",
          "",
          "",
          "",
          "",
          "",
          "",
          "",
          "",
          "",
          "",
          "",
          "",
          "",
          "",
          "",
          "",
          "",
          "",
          "",
          "",
          "",
          "",
          "",
          "",
          "",
          "",
          "",
          "",
          "",
          "",
          "",
          "",
          "",
          "",
          "",
          "",
          "",
          "",
          "",
          "",
          "",
          "",
          "",
          "",
          "",
          "",
          "",
          "",
          "",
          "",
          "",
          "",
          "",
          "",
          "",
          "",
          "",
          "",
          "",
          "",
          "",
          "",
          "",
          "",
          "",
          "",
          "",
          "",
          "",
          "",
          "",
          "",
          "",
          "",
          "",
          "",
          "",
          "",
          "",
          "",
          "",
          "",
          "",
          "",
          "",
          "",
          "",
          "",
          "",
          "",
          "",
          "",
          "",
          "",
          "",
          "",
          "",
          "",
          "",
          "",
          "",
          "",
          "",
          "",
          "",
          "",
          "",
          "",
          ""
         ],
         "type": "treemap",
         "values": [
          445,
          687,
          284,
          524,
          20,
          629,
          232,
          280,
          653,
          656,
          820,
          870,
          503,
          851,
          2302,
          1179,
          283,
          769,
          667,
          725,
          798,
          793,
          13,
          957,
          6165,
          562,
          876,
          1032,
          128,
          95,
          45,
          471,
          1231,
          461,
          1074,
          471,
          3006,
          617,
          579,
          1493,
          396,
          566,
          31,
          1795,
          2270,
          505,
          1380,
          467,
          411,
          513,
          503,
          810,
          469,
          1042,
          870,
          1671,
          466,
          811,
          44,
          1580,
          549,
          990,
          71,
          42,
          353,
          1225,
          434,
          693,
          872,
          348,
          874,
          2125,
          1702,
          120,
          25,
          549,
          667,
          358,
          595,
          235,
          635,
          25,
          52,
          746,
          56,
          607,
          346,
          252,
          2606,
          452,
          2228,
          1303,
          369,
          496,
          49,
          67,
          1821,
          633,
          541,
          860,
          395,
          538,
          1619,
          483,
          58,
          1945,
          590,
          1234,
          388,
          281,
          78,
          1771,
          56,
          216,
          431,
          644,
          442,
          147,
          533,
          543,
          1064,
          174,
          275,
          105,
          1558,
          738,
          440,
          650,
          386,
          1193,
          40,
          768,
          1584,
          924,
          309,
          570,
          562,
          304,
          504,
          571,
          587,
          730,
          365,
          358,
          495,
          1219,
          538,
          1509,
          446,
          343,
          521,
          357,
          1399,
          1182,
          654,
          1583,
          594,
          528,
          1241,
          441,
          1553,
          264,
          908,
          829,
          405,
          292,
          442,
          526,
          1202,
          1049,
          703,
          470,
          809,
          1554,
          449,
          656,
          1495,
          1008,
          444,
          146,
          634,
          261,
          756,
          1467,
          39,
          1376,
          47,
          395,
          675,
          1459,
          721,
          2183,
          661,
          2250,
          942,
          4140,
          1979,
          518,
          1628,
          621,
          616,
          2611,
          80,
          998,
          115,
          983,
          245,
          414,
          3132,
          550,
          1231,
          262,
          570,
          219,
          773,
          86,
          358,
          488,
          693,
          597,
          206,
          1359,
          627,
          294,
          197,
          630,
          952,
          715,
          1626,
          657,
          1530,
          644,
          224,
          58,
          457,
          336,
          540,
          982,
          576,
          705,
          336,
          328,
          1025,
          401,
          32,
          948,
          905,
          568,
          547,
          70,
          765,
          1576,
          663,
          1931,
          557,
          201,
          904,
          54,
          30,
          735,
          715,
          395,
          38,
          396,
          1440,
          1396,
          758,
          1178,
          857,
          1165,
          265,
          759,
          1347,
          444,
          316,
          937,
          308,
          52,
          925,
          306,
          799,
          314,
          885,
          305,
          377,
          547,
          1384,
          573,
          711,
          595,
          390,
          192,
          341,
          1125,
          78,
          1591,
          588,
          363,
          61,
          622,
          1143,
          468,
          737,
          2750,
          554,
          72,
          51,
          1343,
          873,
          905,
          263,
          82,
          622,
          899,
          487,
          1227,
          473,
          558,
          741,
          667,
          260,
          338,
          578,
          413,
          696,
          737,
          18,
          758,
          750,
          632,
          1278,
          883,
          1977,
          616,
          850,
          562,
          675,
          871,
          557,
          144,
          215,
          247,
          1026,
          628,
          1501,
          720,
          381,
          614,
          1406,
          654,
          777,
          744,
          1291,
          834,
          814,
          318,
          814,
          571,
          15,
          723,
          696,
          659,
          579,
          415,
          765,
          474,
          447,
          862,
          796,
          653,
          246,
          295,
          1633,
          894,
          583,
          35,
          344,
          77,
          578,
          1645,
          1164,
          1225,
          1709,
          38,
          1343,
          653,
          423,
          593,
          726,
          884,
          36,
          308,
          548,
          718,
          327,
          584,
          175,
          661,
          635,
          408,
          469,
          165,
          53,
          74,
          2811,
          304,
          1133,
          1590,
          731,
          718,
          1283,
          553,
          605,
          1147,
          433,
          473,
          629,
          606,
          778,
          615,
          509,
          935
         ]
        }
       ],
       "layout": {
        "legend": {
         "tracegroupgap": 0
        },
        "margin": {
         "b": 0,
         "l": 0,
         "r": 0,
         "t": 40
        },
        "template": {
         "data": {
          "bar": [
           {
            "error_x": {
             "color": "#2a3f5f"
            },
            "error_y": {
             "color": "#2a3f5f"
            },
            "marker": {
             "line": {
              "color": "#E5ECF6",
              "width": 0.5
             },
             "pattern": {
              "fillmode": "overlay",
              "size": 10,
              "solidity": 0.2
             }
            },
            "type": "bar"
           }
          ],
          "barpolar": [
           {
            "marker": {
             "line": {
              "color": "#E5ECF6",
              "width": 0.5
             },
             "pattern": {
              "fillmode": "overlay",
              "size": 10,
              "solidity": 0.2
             }
            },
            "type": "barpolar"
           }
          ],
          "carpet": [
           {
            "aaxis": {
             "endlinecolor": "#2a3f5f",
             "gridcolor": "white",
             "linecolor": "white",
             "minorgridcolor": "white",
             "startlinecolor": "#2a3f5f"
            },
            "baxis": {
             "endlinecolor": "#2a3f5f",
             "gridcolor": "white",
             "linecolor": "white",
             "minorgridcolor": "white",
             "startlinecolor": "#2a3f5f"
            },
            "type": "carpet"
           }
          ],
          "choropleth": [
           {
            "colorbar": {
             "outlinewidth": 0,
             "ticks": ""
            },
            "type": "choropleth"
           }
          ],
          "contour": [
           {
            "colorbar": {
             "outlinewidth": 0,
             "ticks": ""
            },
            "colorscale": [
             [
              0,
              "#0d0887"
             ],
             [
              0.1111111111111111,
              "#46039f"
             ],
             [
              0.2222222222222222,
              "#7201a8"
             ],
             [
              0.3333333333333333,
              "#9c179e"
             ],
             [
              0.4444444444444444,
              "#bd3786"
             ],
             [
              0.5555555555555556,
              "#d8576b"
             ],
             [
              0.6666666666666666,
              "#ed7953"
             ],
             [
              0.7777777777777778,
              "#fb9f3a"
             ],
             [
              0.8888888888888888,
              "#fdca26"
             ],
             [
              1,
              "#f0f921"
             ]
            ],
            "type": "contour"
           }
          ],
          "contourcarpet": [
           {
            "colorbar": {
             "outlinewidth": 0,
             "ticks": ""
            },
            "type": "contourcarpet"
           }
          ],
          "heatmap": [
           {
            "colorbar": {
             "outlinewidth": 0,
             "ticks": ""
            },
            "colorscale": [
             [
              0,
              "#0d0887"
             ],
             [
              0.1111111111111111,
              "#46039f"
             ],
             [
              0.2222222222222222,
              "#7201a8"
             ],
             [
              0.3333333333333333,
              "#9c179e"
             ],
             [
              0.4444444444444444,
              "#bd3786"
             ],
             [
              0.5555555555555556,
              "#d8576b"
             ],
             [
              0.6666666666666666,
              "#ed7953"
             ],
             [
              0.7777777777777778,
              "#fb9f3a"
             ],
             [
              0.8888888888888888,
              "#fdca26"
             ],
             [
              1,
              "#f0f921"
             ]
            ],
            "type": "heatmap"
           }
          ],
          "heatmapgl": [
           {
            "colorbar": {
             "outlinewidth": 0,
             "ticks": ""
            },
            "colorscale": [
             [
              0,
              "#0d0887"
             ],
             [
              0.1111111111111111,
              "#46039f"
             ],
             [
              0.2222222222222222,
              "#7201a8"
             ],
             [
              0.3333333333333333,
              "#9c179e"
             ],
             [
              0.4444444444444444,
              "#bd3786"
             ],
             [
              0.5555555555555556,
              "#d8576b"
             ],
             [
              0.6666666666666666,
              "#ed7953"
             ],
             [
              0.7777777777777778,
              "#fb9f3a"
             ],
             [
              0.8888888888888888,
              "#fdca26"
             ],
             [
              1,
              "#f0f921"
             ]
            ],
            "type": "heatmapgl"
           }
          ],
          "histogram": [
           {
            "marker": {
             "pattern": {
              "fillmode": "overlay",
              "size": 10,
              "solidity": 0.2
             }
            },
            "type": "histogram"
           }
          ],
          "histogram2d": [
           {
            "colorbar": {
             "outlinewidth": 0,
             "ticks": ""
            },
            "colorscale": [
             [
              0,
              "#0d0887"
             ],
             [
              0.1111111111111111,
              "#46039f"
             ],
             [
              0.2222222222222222,
              "#7201a8"
             ],
             [
              0.3333333333333333,
              "#9c179e"
             ],
             [
              0.4444444444444444,
              "#bd3786"
             ],
             [
              0.5555555555555556,
              "#d8576b"
             ],
             [
              0.6666666666666666,
              "#ed7953"
             ],
             [
              0.7777777777777778,
              "#fb9f3a"
             ],
             [
              0.8888888888888888,
              "#fdca26"
             ],
             [
              1,
              "#f0f921"
             ]
            ],
            "type": "histogram2d"
           }
          ],
          "histogram2dcontour": [
           {
            "colorbar": {
             "outlinewidth": 0,
             "ticks": ""
            },
            "colorscale": [
             [
              0,
              "#0d0887"
             ],
             [
              0.1111111111111111,
              "#46039f"
             ],
             [
              0.2222222222222222,
              "#7201a8"
             ],
             [
              0.3333333333333333,
              "#9c179e"
             ],
             [
              0.4444444444444444,
              "#bd3786"
             ],
             [
              0.5555555555555556,
              "#d8576b"
             ],
             [
              0.6666666666666666,
              "#ed7953"
             ],
             [
              0.7777777777777778,
              "#fb9f3a"
             ],
             [
              0.8888888888888888,
              "#fdca26"
             ],
             [
              1,
              "#f0f921"
             ]
            ],
            "type": "histogram2dcontour"
           }
          ],
          "mesh3d": [
           {
            "colorbar": {
             "outlinewidth": 0,
             "ticks": ""
            },
            "type": "mesh3d"
           }
          ],
          "parcoords": [
           {
            "line": {
             "colorbar": {
              "outlinewidth": 0,
              "ticks": ""
             }
            },
            "type": "parcoords"
           }
          ],
          "pie": [
           {
            "automargin": true,
            "type": "pie"
           }
          ],
          "scatter": [
           {
            "fillpattern": {
             "fillmode": "overlay",
             "size": 10,
             "solidity": 0.2
            },
            "type": "scatter"
           }
          ],
          "scatter3d": [
           {
            "line": {
             "colorbar": {
              "outlinewidth": 0,
              "ticks": ""
             }
            },
            "marker": {
             "colorbar": {
              "outlinewidth": 0,
              "ticks": ""
             }
            },
            "type": "scatter3d"
           }
          ],
          "scattercarpet": [
           {
            "marker": {
             "colorbar": {
              "outlinewidth": 0,
              "ticks": ""
             }
            },
            "type": "scattercarpet"
           }
          ],
          "scattergeo": [
           {
            "marker": {
             "colorbar": {
              "outlinewidth": 0,
              "ticks": ""
             }
            },
            "type": "scattergeo"
           }
          ],
          "scattergl": [
           {
            "marker": {
             "colorbar": {
              "outlinewidth": 0,
              "ticks": ""
             }
            },
            "type": "scattergl"
           }
          ],
          "scattermapbox": [
           {
            "marker": {
             "colorbar": {
              "outlinewidth": 0,
              "ticks": ""
             }
            },
            "type": "scattermapbox"
           }
          ],
          "scatterpolar": [
           {
            "marker": {
             "colorbar": {
              "outlinewidth": 0,
              "ticks": ""
             }
            },
            "type": "scatterpolar"
           }
          ],
          "scatterpolargl": [
           {
            "marker": {
             "colorbar": {
              "outlinewidth": 0,
              "ticks": ""
             }
            },
            "type": "scatterpolargl"
           }
          ],
          "scatterternary": [
           {
            "marker": {
             "colorbar": {
              "outlinewidth": 0,
              "ticks": ""
             }
            },
            "type": "scatterternary"
           }
          ],
          "surface": [
           {
            "colorbar": {
             "outlinewidth": 0,
             "ticks": ""
            },
            "colorscale": [
             [
              0,
              "#0d0887"
             ],
             [
              0.1111111111111111,
              "#46039f"
             ],
             [
              0.2222222222222222,
              "#7201a8"
             ],
             [
              0.3333333333333333,
              "#9c179e"
             ],
             [
              0.4444444444444444,
              "#bd3786"
             ],
             [
              0.5555555555555556,
              "#d8576b"
             ],
             [
              0.6666666666666666,
              "#ed7953"
             ],
             [
              0.7777777777777778,
              "#fb9f3a"
             ],
             [
              0.8888888888888888,
              "#fdca26"
             ],
             [
              1,
              "#f0f921"
             ]
            ],
            "type": "surface"
           }
          ],
          "table": [
           {
            "cells": {
             "fill": {
              "color": "#EBF0F8"
             },
             "line": {
              "color": "white"
             }
            },
            "header": {
             "fill": {
              "color": "#C8D4E3"
             },
             "line": {
              "color": "white"
             }
            },
            "type": "table"
           }
          ]
         },
         "layout": {
          "annotationdefaults": {
           "arrowcolor": "#2a3f5f",
           "arrowhead": 0,
           "arrowwidth": 1
          },
          "autotypenumbers": "strict",
          "coloraxis": {
           "colorbar": {
            "outlinewidth": 0,
            "ticks": ""
           }
          },
          "colorscale": {
           "diverging": [
            [
             0,
             "#8e0152"
            ],
            [
             0.1,
             "#c51b7d"
            ],
            [
             0.2,
             "#de77ae"
            ],
            [
             0.3,
             "#f1b6da"
            ],
            [
             0.4,
             "#fde0ef"
            ],
            [
             0.5,
             "#f7f7f7"
            ],
            [
             0.6,
             "#e6f5d0"
            ],
            [
             0.7,
             "#b8e186"
            ],
            [
             0.8,
             "#7fbc41"
            ],
            [
             0.9,
             "#4d9221"
            ],
            [
             1,
             "#276419"
            ]
           ],
           "sequential": [
            [
             0,
             "#0d0887"
            ],
            [
             0.1111111111111111,
             "#46039f"
            ],
            [
             0.2222222222222222,
             "#7201a8"
            ],
            [
             0.3333333333333333,
             "#9c179e"
            ],
            [
             0.4444444444444444,
             "#bd3786"
            ],
            [
             0.5555555555555556,
             "#d8576b"
            ],
            [
             0.6666666666666666,
             "#ed7953"
            ],
            [
             0.7777777777777778,
             "#fb9f3a"
            ],
            [
             0.8888888888888888,
             "#fdca26"
            ],
            [
             1,
             "#f0f921"
            ]
           ],
           "sequentialminus": [
            [
             0,
             "#0d0887"
            ],
            [
             0.1111111111111111,
             "#46039f"
            ],
            [
             0.2222222222222222,
             "#7201a8"
            ],
            [
             0.3333333333333333,
             "#9c179e"
            ],
            [
             0.4444444444444444,
             "#bd3786"
            ],
            [
             0.5555555555555556,
             "#d8576b"
            ],
            [
             0.6666666666666666,
             "#ed7953"
            ],
            [
             0.7777777777777778,
             "#fb9f3a"
            ],
            [
             0.8888888888888888,
             "#fdca26"
            ],
            [
             1,
             "#f0f921"
            ]
           ]
          },
          "colorway": [
           "#636efa",
           "#EF553B",
           "#00cc96",
           "#ab63fa",
           "#FFA15A",
           "#19d3f3",
           "#FF6692",
           "#B6E880",
           "#FF97FF",
           "#FECB52"
          ],
          "font": {
           "color": "#2a3f5f"
          },
          "geo": {
           "bgcolor": "white",
           "lakecolor": "white",
           "landcolor": "#E5ECF6",
           "showlakes": true,
           "showland": true,
           "subunitcolor": "white"
          },
          "hoverlabel": {
           "align": "left"
          },
          "hovermode": "closest",
          "mapbox": {
           "style": "light"
          },
          "paper_bgcolor": "white",
          "plot_bgcolor": "#E5ECF6",
          "polar": {
           "angularaxis": {
            "gridcolor": "white",
            "linecolor": "white",
            "ticks": ""
           },
           "bgcolor": "#E5ECF6",
           "radialaxis": {
            "gridcolor": "white",
            "linecolor": "white",
            "ticks": ""
           }
          },
          "scene": {
           "xaxis": {
            "backgroundcolor": "#E5ECF6",
            "gridcolor": "white",
            "gridwidth": 2,
            "linecolor": "white",
            "showbackground": true,
            "ticks": "",
            "zerolinecolor": "white"
           },
           "yaxis": {
            "backgroundcolor": "#E5ECF6",
            "gridcolor": "white",
            "gridwidth": 2,
            "linecolor": "white",
            "showbackground": true,
            "ticks": "",
            "zerolinecolor": "white"
           },
           "zaxis": {
            "backgroundcolor": "#E5ECF6",
            "gridcolor": "white",
            "gridwidth": 2,
            "linecolor": "white",
            "showbackground": true,
            "ticks": "",
            "zerolinecolor": "white"
           }
          },
          "shapedefaults": {
           "line": {
            "color": "#2a3f5f"
           }
          },
          "ternary": {
           "aaxis": {
            "gridcolor": "white",
            "linecolor": "white",
            "ticks": ""
           },
           "baxis": {
            "gridcolor": "white",
            "linecolor": "white",
            "ticks": ""
           },
           "bgcolor": "#E5ECF6",
           "caxis": {
            "gridcolor": "white",
            "linecolor": "white",
            "ticks": ""
           }
          },
          "title": {
           "x": 0.05
          },
          "xaxis": {
           "automargin": true,
           "gridcolor": "white",
           "linecolor": "white",
           "ticks": "",
           "title": {
            "standoff": 15
           },
           "zerolinecolor": "white",
           "zerolinewidth": 2
          },
          "yaxis": {
           "automargin": true,
           "gridcolor": "white",
           "linecolor": "white",
           "ticks": "",
           "title": {
            "standoff": 15
           },
           "zerolinecolor": "white",
           "zerolinewidth": 2
          }
         }
        },
        "title": {
         "text": "Treemap: Number of accident theo by District"
        }
       }
      }
     },
     "metadata": {},
     "output_type": "display_data"
    }
   ],
   "source": [
    "accidents_by_region = data.groupby('Local_Authority_(District)')['Accident_Index'].count().reset_index()\n",
    "\n",
    "accidents_by_region = accidents_by_region.sort_values(by='Accident_Index', ascending=False)\n",
    "\n",
    "fig = px.treemap(accidents_by_region, \n",
    "                 path=['Local_Authority_(District)'], \n",
    "                 values='Accident_Index',\n",
    "                 title='Treemap: Number of accident theo by District')\n",
    "\n",
    "fig.update_layout(margin=dict(l=0, r=0, b=0, t=40)) \n"
   ]
  }
 ],
 "metadata": {
  "kernelspec": {
   "display_name": "base",
   "language": "python",
   "name": "python3"
  },
  "language_info": {
   "codemirror_mode": {
    "name": "ipython",
    "version": 3
   },
   "file_extension": ".py",
   "mimetype": "text/x-python",
   "name": "python",
   "nbconvert_exporter": "python",
   "pygments_lexer": "ipython3",
   "version": "3.11.5"
  }
 },
 "nbformat": 4,
 "nbformat_minor": 2
}
